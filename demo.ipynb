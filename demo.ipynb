{
 "cells": [
  {
   "cell_type": "code",
   "execution_count": 1,
   "id": "3b194571",
   "metadata": {},
   "outputs": [],
   "source": [
    "import ast, pandas as pd\n",
    "from llm import call_llm\n",
    "from sql import run_query"
   ]
  },
  {
   "cell_type": "code",
   "execution_count": 2,
   "id": "567dc3ae",
   "metadata": {},
   "outputs": [],
   "source": [
    "dev_set = pd.read_csv('./dev_set.csv')\n",
    "dev_set['conversations'] = dev_set['conversations'].apply(lambda x: ast.literal_eval(x))"
   ]
  },
  {
   "cell_type": "code",
   "execution_count": 3,
   "id": "a2194a7d",
   "metadata": {},
   "outputs": [
    {
     "name": "stdout",
     "output_type": "stream",
     "text": [
      "Database Name: `codebase_community`\n",
      "\n",
      "INPUT:\n",
      "Based on the SQL db schema given below, you have to answer the question that follows it. Your answer should be a valid, correct SQL query. You are provided with a HINT to generate the SQL query.\n",
      "\n",
      "SCHEMA: Tables in the database codebase_community: badges, comments, postHistory, postLinks, posts, tags, users, votes\n",
      "-------------------------\n",
      "CREATE query for table: badges\n",
      "\n",
      "CREATE TABLE badges ( Id INTEGER not null primary key, UserId INTEGER null, Name TEXT null, Date DATETIME null, foreign key (UserId) references users (Id) on update cascade on delete cascade )\n",
      "-------------------------\n",
      "CREATE query for table: comments\n",
      "\n",
      "CREATE TABLE comments ( Id INTEGER not null primary key, PostId INTEGER null, Score INTEGER null, Text TEXT null, CreationDate DATETIME null, UserId INTEGER null, UserDisplayName TEXT null, foreign key (PostId) references posts (Id) on update cascade on delete cascade, foreign key (UserId) references users (Id) on update cascade on delete cascade )\n",
      "-------------------------\n",
      "CREATE query for table: postHistory\n",
      "\n",
      "CREATE TABLE postHistory ( Id INTEGER not null UNIQUE primary key, PostHistoryTypeId INTEGER null, PostId INTEGER null, RevisionGUID TEXT null, CreationDate DATETIME null, UserId INTEGER null, Text TEXT null, Comment TEXT null, UserDisplayName TEXT null, foreign key (PostId) references posts (Id) on update cascade on delete cascade, foreign key (UserId) references users (Id) on update cascade on delete cascade )\n",
      "-------------------------\n",
      "CREATE query for table: postLinks\n",
      "\n",
      "CREATE TABLE postLinks ( Id INTEGER not null primary key, CreationDate DATETIME null, PostId INTEGER null, RelatedPostId INTEGER null, LinkTypeId INTEGER null, foreign key (PostId) references posts (Id) on update cascade on delete cascade, foreign key (RelatedPostId) references posts (Id) on update cascade on delete cascade )\n",
      "-------------------------\n",
      "CREATE query for table: posts\n",
      "\n",
      "CREATE TABLE posts ( Id INTEGER not null UNIQUE primary key, PostTypeId INTEGER null, AcceptedAnswerId INTEGER null, CreaionDate DATETIME null, Score INTEGER null, ViewCount INTEGER null, Body TEXT null, OwnerUserId INTEGER null, LasActivityDate DATETIME null, Title TEXT null, Tags TEXT null, AnswerCount INTEGER null, CommentCount INTEGER null, FavoriteCount INTEGER null, LastEditorUserId INTEGER null, LastEditDate DATETIME null, CommunityOwnedDate DATETIME null, ParentId INTEGER null, ClosedDate DATETIME null, OwnerDisplayName TEXT null, LastEditorDisplayName TEXT null, foreign key (LastEditorUserId) references users (Id) on update cascade on delete cascade, foreign key (OwnerUserId) references users (Id) on update cascade on delete cascade, foreign key (ParentId) references posts (Id) on update cascade on delete cascade )\n",
      "-------------------------\n",
      "CREATE query for table: tags\n",
      "\n",
      "CREATE TABLE tags ( Id INTEGER not null primary key, TagName TEXT null, Count INTEGER null, ExcerptPostId INTEGER null, WikiPostId INTEGER null, foreign key (ExcerptPostId) references posts (Id) on update cascade on delete cascade )\n",
      "-------------------------\n",
      "CREATE query for table: users\n",
      "\n",
      "CREATE TABLE users ( Id INTEGER not null UNIQUE primary key, Reputation INTEGER null, CreationDate DATETIME null, DisplayName TEXT null, LastAccessDate DATETIME null, WebsiteUrl TEXT null, Location TEXT null, AboutMe TEXT null, Views INTEGER null, UpVotes INTEGER null, DownVotes INTEGER null, AccountId INTEGER null, Age INTEGER null, ProfileImageUrl TEXT null )\n",
      "-------------------------\n",
      "CREATE query for table: votes\n",
      "\n",
      "CREATE TABLE votes ( Id INTEGER not null primary key, PostId INTEGER null, VoteTypeId INTEGER null, CreationDate DATE null, UserId INTEGER null, BountyAmount INTEGER null, foreign key (PostId) references posts (Id) on update cascade on delete cascade, foreign key (UserId) references users (Id) on update cascade on delete cascade )\n",
      "-------------------------\n",
      "QUESTION: Which is the most valuable post in 2010? Please give its id and the owner's display name.\n",
      "\n",
      "HINT: the most valuable post in 2015 refers to MAX(FavoriteCount) where year(CreationDate) = 2010;\n",
      "\n",
      "\n",
      "\n",
      "OUTPUT:\n",
      "SELECT T2.OwnerUserId, T1.DisplayName FROM users AS T1 INNER JOIN posts AS T2 ON T1.Id = T2.OwnerUserId WHERE STRFTIME('%Y', T1.CreationDate) = '2010' ORDER BY T2.FavoriteCount DESC LIMIT 1\n"
     ]
    }
   ],
   "source": [
    "selected_sample = dev_set.sample(n=1)\n",
    "print(f\"Database Name: `{selected_sample['database'].iloc[0]}`\")\n",
    "print()\n",
    "print(f\"INPUT:\\n{selected_sample['conversations'].iloc[0][0]['value']}\")\n",
    "print()\n",
    "print(f\"OUTPUT:\\n{selected_sample['conversations'].iloc[0][1]['value']}\")"
   ]
  },
  {
   "cell_type": "code",
   "execution_count": 4,
   "id": "b7ec52bf",
   "metadata": {},
   "outputs": [
    {
     "data": {
      "text/plain": [
       "\"To find the most valuable post in 2010, you can use the following SQL query:\\n\\n```sql\\nSELECT p.Id, u.OwnerDisplayName\\nFROM posts p\\nJOIN votes v ON p.Id = v.PostId\\nWHERE YEAR(p.CreationDate) = 2010\\nORDER BY v.VoteTypeId DESC\\nLIMIT 1;\\n```\\n\\nThis query joins the `posts` table with the `votes` table on the `PostId` column. It then filters the results to only include posts from 2010 by using the `YEAR` function on the `CreationDate` column. The results are ordered by the `VoteTypeId` in descending order (most valuable first), and since we're ordering for the most valuable post, we can use a limit of 1.\\n\\nNote that if there are multiple votes with the same maximum value for a particular vote type, this query will only return one of them.\""
      ]
     },
     "execution_count": 4,
     "metadata": {},
     "output_type": "execute_result"
    }
   ],
   "source": [
    "generated_query = call_llm(selected_sample.iloc[0]['conversations'][0]['value'])\n",
    "generated_query"
   ]
  },
  {
   "cell_type": "code",
   "execution_count": 6,
   "id": "3affda59",
   "metadata": {},
   "outputs": [
    {
     "data": {
      "text/plain": [
       "('ERROR: near \"To\": syntax error', -1)"
      ]
     },
     "execution_count": 6,
     "metadata": {},
     "output_type": "execute_result"
    }
   ],
   "source": [
    "generated_query_output = run_query(selected_sample['database'].iloc[0], generated_query)\n",
    "generated_query_output"
   ]
  },
  {
   "cell_type": "code",
   "execution_count": 7,
   "id": "4c89dd02",
   "metadata": {},
   "outputs": [],
   "source": [
    "if generated_query_output[1] == -1:\n",
    "    schema = selected_sample.iloc[0]['conversations'][0]['value'].split(\"Based on the SQL db schema given below, you have to answer the question that follows it. Your answer should be a valid, correct SQL query. You are provided with a HINT to generate the SQL query.\\n\\n\")[1].split(\"QUESTION:\")[0].strip()\n",
    "    query_to_rectify = generated_query_output\n",
    "    query_error = generated_query_output[0]\n",
    "    \n",
    "    query_rectification_prompt = f\"You are an expert in rectifying incorrect SQL queries based on db schema and error.\\n\\nRead schema below:\\n\\n{schema}\\n\\nYou need to rectify this query: {query_to_rectify}\\n\\nIt is giving following error: {query_error}\"\n",
    "    rectified_query = call_llm(query_rectification_prompt)\n",
    "    if '```sql' in rectified_query:\n",
    "        try:\n",
    "            rectified_query = rectified_query.split('```sql')[1].split('```')[0].strip()\n",
    "        except:\n",
    "            rectified_query = rectified_query\n",
    "\n",
    "    rectified_query_output = run_query(selected_sample['database'].iloc[0], rectified_query)"
   ]
  },
  {
   "cell_type": "code",
   "execution_count": 8,
   "id": "8544da6e",
   "metadata": {},
   "outputs": [
    {
     "data": {
      "text/plain": [
       "\"SELECT c.*\\nFROM comments c\\nJOIN votes v ON c.Id = v.PostId AND v.VoteTypeId = 2 -- Assuming '2' is the id for upvote\\nWHERE v.UserId IS NOT NULL AND c.Score > 0;\""
      ]
     },
     "execution_count": 8,
     "metadata": {},
     "output_type": "execute_result"
    }
   ],
   "source": [
    "rectified_query"
   ]
  },
  {
   "cell_type": "code",
   "execution_count": 9,
   "id": "c33b2d1b",
   "metadata": {},
   "outputs": [
    {
     "data": {
      "text/plain": [
       "([], 0.007)"
      ]
     },
     "execution_count": 9,
     "metadata": {},
     "output_type": "execute_result"
    }
   ],
   "source": [
    "rectified_query_output"
   ]
  },
  {
   "cell_type": "code",
   "execution_count": null,
   "id": "de908dd0",
   "metadata": {},
   "outputs": [],
   "source": []
  }
 ],
 "metadata": {
  "kernelspec": {
   "display_name": "env_general",
   "language": "python",
   "name": "python3"
  },
  "language_info": {
   "codemirror_mode": {
    "name": "ipython",
    "version": 3
   },
   "file_extension": ".py",
   "mimetype": "text/x-python",
   "name": "python",
   "nbconvert_exporter": "python",
   "pygments_lexer": "ipython3",
   "version": "3.10.13"
  }
 },
 "nbformat": 4,
 "nbformat_minor": 5
}
