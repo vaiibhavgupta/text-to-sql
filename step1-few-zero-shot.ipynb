{
 "cells": [
  {
   "cell_type": "code",
   "execution_count": null,
   "id": "1522c935",
   "metadata": {},
   "outputs": [],
   "source": [
    "import ast, tqdm, pandas as pd\n",
    "from llm import call_llm\n",
    "\n",
    "dev_set = pd.read_csv('./dev_set.csv')\n",
    "dev_set"
   ]
  },
  {
   "cell_type": "code",
   "execution_count": null,
   "id": "85c16cea",
   "metadata": {},
   "outputs": [],
   "source": [
    "dev_set['zero_shot'] = ''\n",
    "for idx, row in tqdm.tqdm(dev_set.iterrows(), desc=\"Inferencing on Dev Set\", total=dev_set.shape[0]):\n",
    "    conversation = ast.literal_eval(row['conversations'])\n",
    "    dev_set.iloc[idx]['zero_shot'] = call_llm(conversation[0]['value'])"
   ]
  },
  {
   "cell_type": "code",
   "execution_count": null,
   "id": "e4fec600",
   "metadata": {},
   "outputs": [],
   "source": [
    "train_set = pd.read_csv('./train_set.csv')\n",
    "\n",
    "def get_few_shot_examples(n):\n",
    "    few_shot_examples = ''\n",
    "    for _, row in train_set.sample(n=n).reset_index(drop=True).iterrows():\n",
    "        conversation = ast.literal_eval(row['conversations'])\n",
    "\n",
    "        few_shot_examples += f'Example: {_+1}\\n\\n'\n",
    "        few_shot_examples += conversation[0]['value']\n",
    "        few_shot_examples += f\"OUTPUT: {conversation[1]['value']}\\n\\n\"\n",
    "    \n",
    "    return few_shot_examples.strip()"
   ]
  },
  {
   "cell_type": "code",
   "execution_count": null,
   "id": "63e7c9d1",
   "metadata": {},
   "outputs": [],
   "source": [
    "dev_set['few_shot'] = ''\n",
    "for idx, row in tqdm.tqdm(dev_set.iterrows(), desc=\"Inferencing on Dev Set\", total=dev_set.shape[0]):\n",
    "    conversation = ast.literal_eval(row['conversations'])[0]['value']\n",
    "    content = conversation + '\\n\\n' + \"Here are few examples for your reference:\\n\\n\" + get_few_shot_examples(2)\n",
    "    dev_set.iloc[idx]['few_shot'] = call_llm(content)"
   ]
  },
  {
   "cell_type": "code",
   "execution_count": null,
   "id": "0ee8a74a",
   "metadata": {},
   "outputs": [],
   "source": [
    "dev_set.to_csv('./dev_set_zero_few_shot.csv', index=False)"
   ]
  },
  {
   "cell_type": "code",
   "execution_count": null,
   "id": "6489cf7e",
   "metadata": {},
   "outputs": [],
   "source": []
  }
 ],
 "metadata": {
  "kernelspec": {
   "display_name": "env_general",
   "language": "python",
   "name": "python3"
  },
  "language_info": {
   "codemirror_mode": {
    "name": "ipython",
    "version": 3
   },
   "file_extension": ".py",
   "mimetype": "text/x-python",
   "name": "python",
   "nbconvert_exporter": "python",
   "pygments_lexer": "ipython3",
   "version": "3.10.13"
  }
 },
 "nbformat": 4,
 "nbformat_minor": 5
}
