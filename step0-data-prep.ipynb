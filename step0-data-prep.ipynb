{
 "cells": [
  {
   "cell_type": "code",
   "execution_count": 1,
   "id": "f8fc64e1",
   "metadata": {},
   "outputs": [],
   "source": [
    "import warnings\n",
    "warnings.filterwarnings('ignore')\n",
    "\n",
    "import tqdm, json, random, sqlite3, pandas as pd"
   ]
  },
  {
   "cell_type": "code",
   "execution_count": 2,
   "id": "58a16cfa",
   "metadata": {},
   "outputs": [],
   "source": [
    "def get_database_schema(data_split, database_name):\n",
    "    with sqlite3.connect(f'file:./dataset/{data_split}_set/{data_split}_databases/{database_name}/{database_name}.sqlite?mode=ro', uri=True) as conn:\n",
    "        cursor = conn.cursor()\n",
    "        cursor.execute(\"SELECT name FROM sqlite_master WHERE type='table';\")\n",
    "        tables = cursor.fetchall()\n",
    "        schemas = {}\n",
    "        for table in tables:\n",
    "            cursor.execute(\"SELECT sql FROM sqlite_master WHERE type='table' AND name='{}';\".format(table[0]))\n",
    "            schemas[table[0]] = cursor.fetchone()[0]\n",
    "        return schemas\n",
    "\n",
    "def get_database_schema_as_context(data_split, database_name):\n",
    "    database_schema = get_database_schema(data_split=data_split, database_name=database_name)\n",
    "    context = \"Based on the SQL db schema given below, you have to answer the question that follows it. Your answer should be a valid, correct SQL query. You are provided with a HINT to generate the SQL query.\\n\\n\"\n",
    "    context += f\"SCHEMA: Tables in the database {database_name}: {', '.join(list(database_schema.keys()))}\\n-------------------------\\n\"\n",
    "    for key in database_schema.keys():\n",
    "        context += f\"CREATE query for table: {key}\\n\\n{' '.join(database_schema[key].split())}\\n-------------------------\\n\"\n",
    "    return context\n",
    "\n",
    "\n",
    "def generate_data(data_split):\n",
    "    data_path = f\"./dataset/{data_split}_set/{data_split}.json\"\n",
    "\n",
    "    with open(data_path, 'r') as f:\n",
    "        data_list = json.load(f)\n",
    "\n",
    "    if data_split == 'train':\n",
    "        random.seed(45)\n",
    "        data_list = random.sample(data_list, k=len(data_list))\n",
    "    \n",
    "    examples = list()\n",
    "    for data_point in tqdm.tqdm(data_list, desc=f\"Processing {data_split.title()} Set\"):\n",
    "        context = get_database_schema_as_context(data_split=data_split, database_name=data_point['db_id'])\n",
    "        context += f\"QUESTION: {data_point['question']}\\n\\n\"\n",
    "        context += f\"HINT: {data_point['evidence']}\\n\\n\"\n",
    "        examples.append({'database': data_point['db_id'], 'conversations': [{'from': 'human', 'value': context}, {'from': 'gpt', 'value': data_point['SQL']}]})\n",
    "\n",
    "    df = pd.DataFrame(examples)\n",
    "    return df"
   ]
  },
  {
   "cell_type": "code",
   "execution_count": 3,
   "id": "6900e597",
   "metadata": {},
   "outputs": [
    {
     "name": "stderr",
     "output_type": "stream",
     "text": [
      "Processing Train Set: 100%|██████████| 9428/9428 [00:02<00:00, 3802.54it/s]\n"
     ]
    },
    {
     "data": {
      "text/plain": [
       "[{'from': 'human',\n",
       "  'value': 'Based on the SQL db schema given below, you have to answer the question that follows it. Your answer should be a valid, correct SQL query. You are provided with a HINT to generate the SQL query.\\n\\nSCHEMA: Tables in the database student_loan: bool, person, disabled, enlist, filed_for_bankrupcy, longest_absense_from_school, male, no_payment_due, unemployed, enrolled\\n-------------------------\\nCREATE query for table: bool\\n\\nCREATE TABLE bool ( \"name\" TEXT default \\'\\' not null primary key )\\n-------------------------\\nCREATE query for table: person\\n\\nCREATE TABLE person ( \"name\" TEXT default \\'\\' not null primary key )\\n-------------------------\\nCREATE query for table: disabled\\n\\nCREATE TABLE disabled ( \"name\" TEXT default \\'\\' not null primary key, foreign key (\"name\") references person (\"name\") on update cascade on delete cascade )\\n-------------------------\\nCREATE query for table: enlist\\n\\nCREATE TABLE enlist ( \"name\" TEXT not null, organ TEXT not null, foreign key (\"name\") references person (\"name\") on update cascade on delete cascade )\\n-------------------------\\nCREATE query for table: filed_for_bankrupcy\\n\\nCREATE TABLE filed_for_bankrupcy ( \"name\" TEXT default \\'\\' not null primary key, foreign key (\"name\") references person (\"name\") on update cascade on delete cascade )\\n-------------------------\\nCREATE query for table: longest_absense_from_school\\n\\nCREATE TABLE longest_absense_from_school ( \"name\" TEXT default \\'\\' not null primary key, \"month\" INTEGER default 0 null, foreign key (\"name\") references person (\"name\") on update cascade on delete cascade )\\n-------------------------\\nCREATE query for table: male\\n\\nCREATE TABLE male ( \"name\" TEXT default \\'\\' not null primary key, foreign key (\"name\") references person (\"name\") on update cascade on delete cascade )\\n-------------------------\\nCREATE query for table: no_payment_due\\n\\nCREATE TABLE no_payment_due ( \"name\" TEXT default \\'\\' not null primary key, bool TEXT null, foreign key (\"name\") references person (\"name\") on update cascade on delete cascade, foreign key (bool) references bool (\"name\") on update cascade on delete cascade )\\n-------------------------\\nCREATE query for table: unemployed\\n\\nCREATE TABLE unemployed ( \"name\" TEXT default \\'\\' not null primary key, foreign key (\"name\") references person (\"name\") on update cascade on delete cascade )\\n-------------------------\\nCREATE query for table: enrolled\\n\\nCREATE TABLE `enrolled` ( `name` TEXT NOT NULL, `school` TEXT NOT NULL, `month` INTEGER NOT NULL DEFAULT 0, PRIMARY KEY (`name`,`school`), FOREIGN KEY (`name`) REFERENCES `person` (`name`) ON DELETE CASCADE ON UPDATE CASCADE )\\n-------------------------\\nQUESTION: How many male students join more than one organization?\\n\\nHINT: more than one organization refers to COUNT(organ) > 1\\n\\n'},\n",
       " {'from': 'gpt',\n",
       "  'value': 'SELECT COUNT(T.a) FROM ( SELECT COUNT(DISTINCT T1.name) AS a, COUNT(T2.organ) AS num FROM male AS T1 INNER JOIN enlist AS T2 ON T1.name = T2.name GROUP BY T1.name ) T WHERE T.num > 1'}]"
      ]
     },
     "execution_count": 3,
     "metadata": {},
     "output_type": "execute_result"
    }
   ],
   "source": [
    "train_set = generate_data('train')\n",
    "train_set['conversations'][0]"
   ]
  },
  {
   "cell_type": "code",
   "execution_count": 4,
   "id": "08df5654",
   "metadata": {},
   "outputs": [
    {
     "name": "stderr",
     "output_type": "stream",
     "text": [
      "Processing Dev Set: 100%|██████████| 1534/1534 [00:00<00:00, 5809.15it/s]\n"
     ]
    },
    {
     "data": {
      "text/plain": [
       "[{'from': 'human',\n",
       "  'value': 'Based on the SQL db schema given below, you have to answer the question that follows it. Your answer should be a valid, correct SQL query. You are provided with a HINT to generate the SQL query.\\n\\nSCHEMA: Tables in the database california_schools: frpm, satscores, schools\\n-------------------------\\nCREATE query for table: frpm\\n\\nCREATE TABLE frpm ( CDSCode TEXT not null primary key, `Academic Year` TEXT null, `County Code` TEXT null, `District Code` INTEGER null, `School Code` TEXT null, `County Name` TEXT null, `District Name` TEXT null, `School Name` TEXT null, `District Type` TEXT null, `School Type` TEXT null, `Educational Option Type` TEXT null, `NSLP Provision Status` TEXT null, `Charter School (Y/N)` INTEGER null, `Charter School Number` TEXT null, `Charter Funding Type` TEXT null, IRC INTEGER null, `Low Grade` TEXT null, `High Grade` TEXT null, `Enrollment (K-12)` REAL null, `Free Meal Count (K-12)` REAL null, `Percent (%) Eligible Free (K-12)` REAL null, `FRPM Count (K-12)` REAL null, `Percent (%) Eligible FRPM (K-12)` REAL null, `Enrollment (Ages 5-17)` REAL null, `Free Meal Count (Ages 5-17)` REAL null, `Percent (%) Eligible Free (Ages 5-17)` REAL null, `FRPM Count (Ages 5-17)` REAL null, `Percent (%) Eligible FRPM (Ages 5-17)` REAL null, `2013-14 CALPADS Fall 1 Certification Status` INTEGER null, foreign key (CDSCode) references schools (CDSCode) )\\n-------------------------\\nCREATE query for table: satscores\\n\\nCREATE TABLE satscores ( cds TEXT not null primary key, rtype TEXT not null, sname TEXT null, dname TEXT null, cname TEXT null, enroll12 INTEGER not null, NumTstTakr INTEGER not null, AvgScrRead INTEGER null, AvgScrMath INTEGER null, AvgScrWrite INTEGER null, NumGE1500 INTEGER null, -- PctGE1500 double null, foreign key (cds) references schools (CDSCode) )\\n-------------------------\\nCREATE query for table: schools\\n\\nCREATE TABLE schools ( CDSCode TEXT not null primary key, NCESDist TEXT null, NCESSchool TEXT null, StatusType TEXT not null, County TEXT not null, District TEXT not null, School TEXT null, Street TEXT null, StreetAbr TEXT null, City TEXT null, Zip TEXT null, State TEXT null, MailStreet TEXT null, MailStrAbr TEXT null, MailCity TEXT null, MailZip TEXT null, MailState TEXT null, Phone TEXT null, Ext TEXT null, Website TEXT null, OpenDate DATE null, ClosedDate DATE null, Charter INTEGER null, CharterNum TEXT null, FundingType TEXT null, DOC TEXT not null, DOCType TEXT not null, SOC TEXT null, SOCType TEXT null, EdOpsCode TEXT null, EdOpsName TEXT null, EILCode TEXT null, EILName TEXT null, GSoffered TEXT null, GSserved TEXT null, Virtual TEXT null, Magnet INTEGER null, Latitude REAL null, Longitude REAL null, AdmFName1 TEXT null, AdmLName1 TEXT null, AdmEmail1 TEXT null, AdmFName2 TEXT null, AdmLName2 TEXT null, AdmEmail2 TEXT null, AdmFName3 TEXT null, AdmLName3 TEXT null, AdmEmail3 TEXT null, LastUpdate DATE not null )\\n-------------------------\\nQUESTION: What is the highest eligible free rate for K-12 students in the schools in Alameda County?\\n\\nHINT: Eligible free rate for K-12 = `Free Meal Count (K-12)` / `Enrollment (K-12)`\\n\\n'},\n",
       " {'from': 'gpt',\n",
       "  'value': \"SELECT `Free Meal Count (K-12)` / `Enrollment (K-12)` FROM frpm WHERE `County Name` = 'Alameda' ORDER BY (CAST(`Free Meal Count (K-12)` AS REAL) / `Enrollment (K-12)`) DESC LIMIT 1\"}]"
      ]
     },
     "execution_count": 4,
     "metadata": {},
     "output_type": "execute_result"
    }
   ],
   "source": [
    "dev_set = generate_data('dev')\n",
    "dev_set['conversations'][0]"
   ]
  },
  {
   "cell_type": "code",
   "execution_count": 5,
   "id": "4e45bd15",
   "metadata": {},
   "outputs": [
    {
     "data": {
      "text/plain": [
       "works_cycles              474\n",
       "public_review_platform    381\n",
       "retail_world              373\n",
       "movie_3                   325\n",
       "mondial_geo               293\n",
       "                         ... \n",
       "trains                     40\n",
       "shooting                   28\n",
       "genes                      23\n",
       "citeseer                   19\n",
       "craftbeer                   6\n",
       "Name: database, Length: 69, dtype: int64"
      ]
     },
     "execution_count": 5,
     "metadata": {},
     "output_type": "execute_result"
    }
   ],
   "source": [
    "train_set['database'].value_counts()"
   ]
  },
  {
   "cell_type": "code",
   "execution_count": 6,
   "id": "e43ac42b",
   "metadata": {},
   "outputs": [
    {
     "data": {
      "text/plain": [
       "card_games                 191\n",
       "codebase_community         186\n",
       "formula_1                  174\n",
       "thrombosis_prediction      163\n",
       "student_club               158\n",
       "toxicology                 145\n",
       "superhero                  129\n",
       "european_football_2        129\n",
       "financial                  106\n",
       "california_schools          89\n",
       "debit_card_specializing     64\n",
       "Name: database, dtype: int64"
      ]
     },
     "execution_count": 6,
     "metadata": {},
     "output_type": "execute_result"
    }
   ],
   "source": [
    "dev_set['database'].value_counts()"
   ]
  },
  {
   "cell_type": "code",
   "execution_count": 9,
   "id": "e25b9a72",
   "metadata": {},
   "outputs": [
    {
     "data": {
      "text/plain": [
       "<Axes: ylabel='Frequency'>"
      ]
     },
     "execution_count": 9,
     "metadata": {},
     "output_type": "execute_result"
    },
    {
     "data": {
      "image/png": "[encoded data removed]",
      "text/plain": [
       "<Figure size 640x480 with 1 Axes>"
      ]
     },
     "metadata": {},
     "output_type": "display_data"
    }
   ],
   "source": [
    "train_set['conversations'].apply(lambda x: len(x[0]['value'])).plot(kind='hist')"
   ]
  },
  {
   "cell_type": "code",
   "execution_count": 10,
   "id": "93914336",
   "metadata": {},
   "outputs": [
    {
     "data": {
      "text/plain": [
       "<Axes: ylabel='Frequency'>"
      ]
     },
     "execution_count": 10,
     "metadata": {},
     "output_type": "execute_result"
    },
    {
     "data": {
      "image/png": "[encoded data removed]",
      "text/plain": [
       "<Figure size 640x480 with 1 Axes>"
      ]
     },
     "metadata": {},
     "output_type": "display_data"
    }
   ],
   "source": [
    "dev_set['conversations'].apply(lambda x: len(x[0]['value'])).plot(kind='hist')"
   ]
  },
  {
   "cell_type": "code",
   "execution_count": 7,
   "id": "731fe302",
   "metadata": {},
   "outputs": [],
   "source": [
    "train_set.to_csv('./train_set.csv', index=False)\n",
    "dev_set.to_csv('./dev_set.csv', index=False)"
   ]
  },
  {
   "cell_type": "code",
   "execution_count": null,
   "id": "c78c9263",
   "metadata": {},
   "outputs": [],
   "source": []
  }
 ],
 "metadata": {
  "kernelspec": {
   "display_name": "env_general",
   "language": "python",
   "name": "python3"
  },
  "language_info": {
   "codemirror_mode": {
    "name": "ipython",
    "version": 3
   },
   "file_extension": ".py",
   "mimetype": "text/x-python",
   "name": "python",
   "nbconvert_exporter": "python",
   "pygments_lexer": "ipython3",
   "version": "3.10.13"
  }
 },
 "nbformat": 4,
 "nbformat_minor": 5
}
