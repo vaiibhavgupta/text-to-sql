{
 "cells": [
  {
   "cell_type": "code",
   "execution_count": 1,
   "id": "295ecebe",
   "metadata": {},
   "outputs": [],
   "source": [
    "import ast, tqdm, pandas as pd\n",
    "\n",
    "from llm import call_llm\n",
    "from sql import run_query\n",
    "from eval_metrics import get_error_distribution, get_output_accuracy"
   ]
  },
  {
   "cell_type": "code",
   "execution_count": 2,
   "id": "3aa13c66",
   "metadata": {},
   "outputs": [
    {
     "data": {
      "text/html": [
       "<div>\n",
       "<style scoped>\n",
       "    .dataframe tbody tr th:only-of-type {\n",
       "        vertical-align: middle;\n",
       "    }\n",
       "\n",
       "    .dataframe tbody tr th {\n",
       "        vertical-align: top;\n",
       "    }\n",
       "\n",
       "    .dataframe thead th {\n",
       "        text-align: right;\n",
       "    }\n",
       "</style>\n",
       "<table border=\"1\" class=\"dataframe\">\n",
       "  <thead>\n",
       "    <tr style=\"text-align: right;\">\n",
       "      <th></th>\n",
       "      <th>database</th>\n",
       "      <th>conversations</th>\n",
       "      <th>prediction</th>\n",
       "      <th>gold_query</th>\n",
       "      <th>db_definition</th>\n",
       "      <th>rectified_prediction</th>\n",
       "    </tr>\n",
       "  </thead>\n",
       "  <tbody>\n",
       "    <tr>\n",
       "      <th>0</th>\n",
       "      <td>california_schools</td>\n",
       "      <td>[{'from': 'human', 'value': 'Based on the SQL ...</td>\n",
       "      <td>SELECT MAX(T2.`Free Meal Count (K-12)`) FROM s...</td>\n",
       "      <td>SELECT `Free Meal Count (K-12)` / `Enrollment ...</td>\n",
       "      <td>SCHEMA: Tables in the database california_scho...</td>\n",
       "      <td></td>\n",
       "    </tr>\n",
       "    <tr>\n",
       "      <th>1</th>\n",
       "      <td>california_schools</td>\n",
       "      <td>[{'from': 'human', 'value': 'Based on the SQL ...</td>\n",
       "      <td>SELECT Percent (%) Eligible Free (K-12) FROM s...</td>\n",
       "      <td>SELECT `Free Meal Count (Ages 5-17)` / `Enroll...</td>\n",
       "      <td>SCHEMA: Tables in the database california_scho...</td>\n",
       "      <td></td>\n",
       "    </tr>\n",
       "    <tr>\n",
       "      <th>2</th>\n",
       "      <td>california_schools</td>\n",
       "      <td>[{'from': 'human', 'value': 'Based on the SQL ...</td>\n",
       "      <td>SELECT T1.Zip FROM schools AS T1 INNER JOIN fr...</td>\n",
       "      <td>SELECT T2.Zip FROM frpm AS T1 INNER JOIN schoo...</td>\n",
       "      <td>SCHEMA: Tables in the database california_scho...</td>\n",
       "      <td></td>\n",
       "    </tr>\n",
       "    <tr>\n",
       "      <th>3</th>\n",
       "      <td>california_schools</td>\n",
       "      <td>[{'from': 'human', 'value': 'Based on the SQL ...</td>\n",
       "      <td>SELECT T1.MailStreet FROM california_schools A...</td>\n",
       "      <td>SELECT T2.MailStreet FROM frpm AS T1 INNER JOI...</td>\n",
       "      <td>SCHEMA: Tables in the database california_scho...</td>\n",
       "      <td></td>\n",
       "    </tr>\n",
       "    <tr>\n",
       "      <th>4</th>\n",
       "      <td>california_schools</td>\n",
       "      <td>[{'from': 'human', 'value': 'Based on the SQL ...</td>\n",
       "      <td>SELECT T2.Phone FROM frpm AS T1 INNER JOIN sch...</td>\n",
       "      <td>SELECT T2.Phone FROM frpm AS T1 INNER JOIN sch...</td>\n",
       "      <td>SCHEMA: Tables in the database california_scho...</td>\n",
       "      <td></td>\n",
       "    </tr>\n",
       "    <tr>\n",
       "      <th>...</th>\n",
       "      <td>...</td>\n",
       "      <td>...</td>\n",
       "      <td>...</td>\n",
       "      <td>...</td>\n",
       "      <td>...</td>\n",
       "      <td>...</td>\n",
       "    </tr>\n",
       "    <tr>\n",
       "      <th>1529</th>\n",
       "      <td>debit_card_specializing</td>\n",
       "      <td>[{'from': 'human', 'value': 'Based on the SQL ...</td>\n",
       "      <td>SELECT T1.Amount, SUM(T1.Amount) FROM transact...</td>\n",
       "      <td>SELECT SUM(T1.Price) , SUM(IIF(T3.Date = '2012...</td>\n",
       "      <td>SCHEMA: Tables in the database debit_card_spec...</td>\n",
       "      <td></td>\n",
       "    </tr>\n",
       "    <tr>\n",
       "      <th>1530</th>\n",
       "      <td>debit_card_specializing</td>\n",
       "      <td>[{'from': 'human', 'value': 'Based on the SQL ...</td>\n",
       "      <td>SELECT DISTINCT T2.Description FROM transactio...</td>\n",
       "      <td>SELECT T2.Description FROM transactions_1k AS ...</td>\n",
       "      <td>SCHEMA: Tables in the database debit_card_spec...</td>\n",
       "      <td></td>\n",
       "    </tr>\n",
       "    <tr>\n",
       "      <th>1531</th>\n",
       "      <td>debit_card_specializing</td>\n",
       "      <td>[{'from': 'human', 'value': 'Based on the SQL ...</td>\n",
       "      <td>SELECT T1.CustomerID, T3.Price, T2.Currency FR...</td>\n",
       "      <td>SELECT T2.CustomerID, SUM(T2.Price / T2.Amount...</td>\n",
       "      <td>SCHEMA: Tables in the database debit_card_spec...</td>\n",
       "      <td></td>\n",
       "    </tr>\n",
       "    <tr>\n",
       "      <th>1532</th>\n",
       "      <td>debit_card_specializing</td>\n",
       "      <td>[{'from': 'human', 'value': 'Based on the SQL ...</td>\n",
       "      <td>SELECT T2.Country FROM transactions_1k AS T1 I...</td>\n",
       "      <td>SELECT T2.Country FROM transactions_1k AS T1 I...</td>\n",
       "      <td>SCHEMA: Tables in the database debit_card_spec...</td>\n",
       "      <td></td>\n",
       "    </tr>\n",
       "    <tr>\n",
       "      <th>1533</th>\n",
       "      <td>debit_card_specializing</td>\n",
       "      <td>[{'from': 'human', 'value': 'Based on the SQL ...</td>\n",
       "      <td>SELECT SUM(T1.Consumption) FROM yearmonth AS T...</td>\n",
       "      <td>SELECT T2.Consumption FROM transactions_1k AS ...</td>\n",
       "      <td>SCHEMA: Tables in the database debit_card_spec...</td>\n",
       "      <td></td>\n",
       "    </tr>\n",
       "  </tbody>\n",
       "</table>\n",
       "<p>1534 rows × 6 columns</p>\n",
       "</div>"
      ],
      "text/plain": [
       "                     database  \\\n",
       "0          california_schools   \n",
       "1          california_schools   \n",
       "2          california_schools   \n",
       "3          california_schools   \n",
       "4          california_schools   \n",
       "...                       ...   \n",
       "1529  debit_card_specializing   \n",
       "1530  debit_card_specializing   \n",
       "1531  debit_card_specializing   \n",
       "1532  debit_card_specializing   \n",
       "1533  debit_card_specializing   \n",
       "\n",
       "                                          conversations  \\\n",
       "0     [{'from': 'human', 'value': 'Based on the SQL ...   \n",
       "1     [{'from': 'human', 'value': 'Based on the SQL ...   \n",
       "2     [{'from': 'human', 'value': 'Based on the SQL ...   \n",
       "3     [{'from': 'human', 'value': 'Based on the SQL ...   \n",
       "4     [{'from': 'human', 'value': 'Based on the SQL ...   \n",
       "...                                                 ...   \n",
       "1529  [{'from': 'human', 'value': 'Based on the SQL ...   \n",
       "1530  [{'from': 'human', 'value': 'Based on the SQL ...   \n",
       "1531  [{'from': 'human', 'value': 'Based on the SQL ...   \n",
       "1532  [{'from': 'human', 'value': 'Based on the SQL ...   \n",
       "1533  [{'from': 'human', 'value': 'Based on the SQL ...   \n",
       "\n",
       "                                             prediction  \\\n",
       "0     SELECT MAX(T2.`Free Meal Count (K-12)`) FROM s...   \n",
       "1     SELECT Percent (%) Eligible Free (K-12) FROM s...   \n",
       "2     SELECT T1.Zip FROM schools AS T1 INNER JOIN fr...   \n",
       "3     SELECT T1.MailStreet FROM california_schools A...   \n",
       "4     SELECT T2.Phone FROM frpm AS T1 INNER JOIN sch...   \n",
       "...                                                 ...   \n",
       "1529  SELECT T1.Amount, SUM(T1.Amount) FROM transact...   \n",
       "1530  SELECT DISTINCT T2.Description FROM transactio...   \n",
       "1531  SELECT T1.CustomerID, T3.Price, T2.Currency FR...   \n",
       "1532  SELECT T2.Country FROM transactions_1k AS T1 I...   \n",
       "1533  SELECT SUM(T1.Consumption) FROM yearmonth AS T...   \n",
       "\n",
       "                                             gold_query  \\\n",
       "0     SELECT `Free Meal Count (K-12)` / `Enrollment ...   \n",
       "1     SELECT `Free Meal Count (Ages 5-17)` / `Enroll...   \n",
       "2     SELECT T2.Zip FROM frpm AS T1 INNER JOIN schoo...   \n",
       "3     SELECT T2.MailStreet FROM frpm AS T1 INNER JOI...   \n",
       "4     SELECT T2.Phone FROM frpm AS T1 INNER JOIN sch...   \n",
       "...                                                 ...   \n",
       "1529  SELECT SUM(T1.Price) , SUM(IIF(T3.Date = '2012...   \n",
       "1530  SELECT T2.Description FROM transactions_1k AS ...   \n",
       "1531  SELECT T2.CustomerID, SUM(T2.Price / T2.Amount...   \n",
       "1532  SELECT T2.Country FROM transactions_1k AS T1 I...   \n",
       "1533  SELECT T2.Consumption FROM transactions_1k AS ...   \n",
       "\n",
       "                                          db_definition rectified_prediction  \n",
       "0     SCHEMA: Tables in the database california_scho...                       \n",
       "1     SCHEMA: Tables in the database california_scho...                       \n",
       "2     SCHEMA: Tables in the database california_scho...                       \n",
       "3     SCHEMA: Tables in the database california_scho...                       \n",
       "4     SCHEMA: Tables in the database california_scho...                       \n",
       "...                                                 ...                  ...  \n",
       "1529  SCHEMA: Tables in the database debit_card_spec...                       \n",
       "1530  SCHEMA: Tables in the database debit_card_spec...                       \n",
       "1531  SCHEMA: Tables in the database debit_card_spec...                       \n",
       "1532  SCHEMA: Tables in the database debit_card_spec...                       \n",
       "1533  SCHEMA: Tables in the database debit_card_spec...                       \n",
       "\n",
       "[1534 rows x 6 columns]"
      ]
     },
     "execution_count": 2,
     "metadata": {},
     "output_type": "execute_result"
    }
   ],
   "source": [
    "finetuned = pd.read_csv('./dev_set_finetuned.csv')\n",
    "finetuned['gold_query'] = finetuned['conversations'].apply(lambda x: ast.literal_eval(x)[1]['value'])\n",
    "finetuned['prediction'] = finetuned['prediction'].apply(lambda x: x.split('<|im_start|>assistant')[1].strip())\n",
    "finetuned['db_definition'] = finetuned['conversations'].apply(lambda x: ast.literal_eval(x)[0]['value'].split(\"Based on the SQL db schema given below, you have to answer the question that follows it. Your answer should be a valid, correct SQL query. You are provided with a HINT to generate the SQL query.\\n\\n\")[1].split(\"QUESTION:\")[0].strip())\n",
    "finetuned['rectified_prediction'] = ''\n",
    "finetuned"
   ]
  },
  {
   "cell_type": "code",
   "execution_count": null,
   "id": "4ebb24a6",
   "metadata": {},
   "outputs": [
    {
     "name": "stderr",
     "output_type": "stream",
     "text": [
      "Running SQL Queries: 100%|██████████| 1534/1534 [52:27<00:00,  2.05s/it] \n"
     ]
    }
   ],
   "source": [
    "result = {\n",
    "    'gold_query': [],\n",
    "    'finetuned': []\n",
    "}\n",
    "for idx, row in tqdm.tqdm(finetuned.iterrows(), desc='Running SQL Queries', total=finetuned.shape[0]):\n",
    "    gold_output = run_query(row['database'], row['gold_query'])\n",
    "    result['gold_query'].append(gold_output)\n",
    "\n",
    "    finetuned_output = run_query(row['database'], row['prediction'])\n",
    "    if finetuned_output[1] == -1:\n",
    "        schema = row['db_definition']\n",
    "        query_to_rectify = row['prediction']\n",
    "        query_error = finetuned_output[0]\n",
    "        \n",
    "        query_rectification_prompt = f\"You are an expert in rectifying incorrect SQL queries based on db schema and error.\\n\\nRead schema below:\\n\\n{schema}\\n\\nYou need to rectify this query: {query_to_rectify}\\n\\nIt is giving following error: {query_error}\"\n",
    "        rectified_query = call_llm(query_rectification_prompt)\n",
    "        if '```sql' in rectified_query:\n",
    "            try:\n",
    "                rectified_query = rectified_query.split('```sql')[1].split('```')[0].strip()\n",
    "            except:\n",
    "                rectified_query = rectified_query\n",
    "\n",
    "        finetuned['rectified_prediction'][idx] = rectified_query\n",
    "        finetuned_output = run_query(row['database'], rectified_query)\n",
    "        result['finetuned'].append(finetuned_output)\n",
    "    else:\n",
    "        result['finetuned'].append(finetuned_output)"
   ]
  },
  {
   "cell_type": "code",
   "execution_count": 26,
   "id": "da0eee47",
   "metadata": {},
   "outputs": [
    {
     "name": "stdout",
     "output_type": "stream",
     "text": [
      "('ERROR: no such function: FRPMCount', -1)\n",
      "('ERROR: no such function: Enrollment', -1)\n",
      "('ERROR: table district already exists', -1)\n",
      "('ERROR: Incorrect number of bindings supplied. The current statement uses 1, and there are 0 supplied.', -1)\n",
      "('ERROR: attempt to write a readonly database', -1)\n",
      "('ERROR: ambiguous column name: molecule_id', -1)\n",
      "('ERROR: attempt to write a readonly database', -1)\n",
      "('ERROR: attempt to write a readonly database', -1)\n",
      "('ERROR: table badges already exists', -1)\n",
      "('ERROR: ambiguous column name: id', -1)\n",
      "('ERROR: no such function: lapTimes', -1)\n",
      "('ERROR: SELECTs to the left and right of UNION ALL do not have the same number of result columns', -1)\n",
      "('ERROR: table Examination already exists', -1)\n",
      "('ERROR: no such function: YEAR', -1)\n",
      "('ERROR: unrecognized token: \":\"', -1)\n",
      "('ERROR: attempt to write a readonly database', -1)\n",
      "('ERROR: misuse of aggregate function COUNT()', -1)\n"
     ]
    },
    {
     "data": {
      "text/plain": [
       "{'syntax': 27, 'column': 181, 'table': 13, 'misc': 17}"
      ]
     },
     "execution_count": 26,
     "metadata": {},
     "output_type": "execute_result"
    }
   ],
   "source": [
    "finetuned_errors = get_error_distribution(result['finetuned'])\n",
    "finetuned_errors"
   ]
  },
  {
   "cell_type": "code",
   "execution_count": 31,
   "id": "eb9a4283",
   "metadata": {},
   "outputs": [
    {
     "name": "stdout",
     "output_type": "stream",
     "text": [
      "Execution Accuracy Finetuned with Self Correction Loop: 84.49 %\n"
     ]
    }
   ],
   "source": [
    "print(\"Execution Accuracy Finetuned with Self Correction Loop:\", round(100 * (finetuned.shape[0] - sum(finetuned_errors.values())) / finetuned.shape[0], 2), \"%\")"
   ]
  },
  {
   "cell_type": "code",
   "execution_count": 28,
   "id": "35a9e8a3",
   "metadata": {},
   "outputs": [
    {
     "data": {
      "text/plain": [
       "'32.14% Accuracy'"
      ]
     },
     "execution_count": 28,
     "metadata": {},
     "output_type": "execute_result"
    }
   ],
   "source": [
    "get_output_accuracy(result['finetuned'], result['gold_query'])"
   ]
  },
  {
   "cell_type": "code",
   "execution_count": 29,
   "id": "e7163b2c",
   "metadata": {},
   "outputs": [],
   "source": [
    "finetuned.to_csv('./dev_set_finetuned_with_self_correction_loop.csv')"
   ]
  },
  {
   "cell_type": "code",
   "execution_count": null,
   "id": "4cf36a7d",
   "metadata": {},
   "outputs": [],
   "source": []
  }
 ],
 "metadata": {
  "kernelspec": {
   "display_name": "env_general",
   "language": "python",
   "name": "python3"
  },
  "language_info": {
   "codemirror_mode": {
    "name": "ipython",
    "version": 3
   },
   "file_extension": ".py",
   "mimetype": "text/x-python",
   "name": "python",
   "nbconvert_exporter": "python",
   "pygments_lexer": "ipython3",
   "version": "3.10.13"
  }
 },
 "nbformat": 4,
 "nbformat_minor": 5
}
